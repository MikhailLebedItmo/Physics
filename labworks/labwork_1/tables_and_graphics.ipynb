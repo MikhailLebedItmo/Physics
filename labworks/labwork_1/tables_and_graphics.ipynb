{
 "cells": [
  {
   "metadata": {},
   "cell_type": "markdown",
   "source": "# Загрузка данных",
   "id": "c40a3e1493cc600f"
  },
  {
   "metadata": {
    "ExecuteTime": {
     "end_time": "2024-09-15T19:36:31.045826Z",
     "start_time": "2024-09-15T19:36:31.037172Z"
    }
   },
   "cell_type": "code",
   "source": [
    "import numpy as np\n",
    "import matplotlib.pyplot as plt\n",
    "import pandas as pd\n",
    "from scipy.interpolate import CubicSpline\n"
   ],
   "id": "dbfec53bc9e6f0d0",
   "outputs": [],
   "execution_count": 42
  },
  {
   "metadata": {
    "ExecuteTime": {
     "end_time": "2024-09-15T19:36:31.068317Z",
     "start_time": "2024-09-15T19:36:31.060034Z"
    }
   },
   "cell_type": "code",
   "source": [
    "def load_data(file_path: str) -> np.ndarray:\n",
    "    data = []\n",
    "    with open(file_path, 'r') as file:\n",
    "        for line in file:\n",
    "            data.append(float(line.strip()))\n",
    "    return data\n",
    "\n",
    "data = load_data('data.txt')"
   ],
   "id": "ab044477c126681d",
   "outputs": [],
   "execution_count": 43
  },
  {
   "metadata": {},
   "cell_type": "markdown",
   "source": "# Построение таблиц",
   "id": "6264cf94d9a70410"
  },
  {
   "metadata": {},
   "cell_type": "markdown",
   "source": "## **Таблица 1:** Результаты прямых измерений",
   "id": "9e291d694090247f"
  },
  {
   "metadata": {
    "ExecuteTime": {
     "end_time": "2024-09-15T19:36:31.098123Z",
     "start_time": "2024-09-15T19:36:31.080258Z"
    }
   },
   "cell_type": "code",
   "source": [
    "def create_data_table(data: np.ndarray) -> pd.DataFrame:\n",
    "    t_mean = np.mean(data)\n",
    "    t_deviation = data - t_mean\n",
    "    t_deviation_squared = t_deviation ** 2\n",
    "\n",
    "    df = pd.DataFrame({\n",
    "        't_i, c': data,\n",
    "        't_i - t_mean': t_deviation,\n",
    "        '(t_i - t_mean)^2': t_deviation_squared,\n",
    "    })\n",
    "\n",
    "    return df.round(3)\n",
    "\n",
    "create_data_table(data)"
   ],
   "id": "3c7389a34f037284",
   "outputs": [
    {
     "data": {
      "text/plain": [
       "    t_i, c  t_i - t_mean  (t_i - t_mean)^2\n",
       "0    6.945        -0.046             0.002\n",
       "1    6.949        -0.041             0.002\n",
       "2    6.851        -0.139             0.019\n",
       "3    7.114         0.124             0.015\n",
       "4    7.040         0.049             0.002\n",
       "..     ...           ...               ...\n",
       "95   6.821        -0.169             0.029\n",
       "96   6.991         0.001             0.000\n",
       "97   7.211         0.221             0.049\n",
       "98   6.895        -0.096             0.009\n",
       "99   6.766        -0.224             0.050\n",
       "\n",
       "[100 rows x 3 columns]"
      ],
      "text/html": [
       "<div>\n",
       "<style scoped>\n",
       "    .dataframe tbody tr th:only-of-type {\n",
       "        vertical-align: middle;\n",
       "    }\n",
       "\n",
       "    .dataframe tbody tr th {\n",
       "        vertical-align: top;\n",
       "    }\n",
       "\n",
       "    .dataframe thead th {\n",
       "        text-align: right;\n",
       "    }\n",
       "</style>\n",
       "<table border=\"1\" class=\"dataframe\">\n",
       "  <thead>\n",
       "    <tr style=\"text-align: right;\">\n",
       "      <th></th>\n",
       "      <th>t_i, c</th>\n",
       "      <th>t_i - t_mean</th>\n",
       "      <th>(t_i - t_mean)^2</th>\n",
       "    </tr>\n",
       "  </thead>\n",
       "  <tbody>\n",
       "    <tr>\n",
       "      <th>0</th>\n",
       "      <td>6.945</td>\n",
       "      <td>-0.046</td>\n",
       "      <td>0.002</td>\n",
       "    </tr>\n",
       "    <tr>\n",
       "      <th>1</th>\n",
       "      <td>6.949</td>\n",
       "      <td>-0.041</td>\n",
       "      <td>0.002</td>\n",
       "    </tr>\n",
       "    <tr>\n",
       "      <th>2</th>\n",
       "      <td>6.851</td>\n",
       "      <td>-0.139</td>\n",
       "      <td>0.019</td>\n",
       "    </tr>\n",
       "    <tr>\n",
       "      <th>3</th>\n",
       "      <td>7.114</td>\n",
       "      <td>0.124</td>\n",
       "      <td>0.015</td>\n",
       "    </tr>\n",
       "    <tr>\n",
       "      <th>4</th>\n",
       "      <td>7.040</td>\n",
       "      <td>0.049</td>\n",
       "      <td>0.002</td>\n",
       "    </tr>\n",
       "    <tr>\n",
       "      <th>...</th>\n",
       "      <td>...</td>\n",
       "      <td>...</td>\n",
       "      <td>...</td>\n",
       "    </tr>\n",
       "    <tr>\n",
       "      <th>95</th>\n",
       "      <td>6.821</td>\n",
       "      <td>-0.169</td>\n",
       "      <td>0.029</td>\n",
       "    </tr>\n",
       "    <tr>\n",
       "      <th>96</th>\n",
       "      <td>6.991</td>\n",
       "      <td>0.001</td>\n",
       "      <td>0.000</td>\n",
       "    </tr>\n",
       "    <tr>\n",
       "      <th>97</th>\n",
       "      <td>7.211</td>\n",
       "      <td>0.221</td>\n",
       "      <td>0.049</td>\n",
       "    </tr>\n",
       "    <tr>\n",
       "      <th>98</th>\n",
       "      <td>6.895</td>\n",
       "      <td>-0.096</td>\n",
       "      <td>0.009</td>\n",
       "    </tr>\n",
       "    <tr>\n",
       "      <th>99</th>\n",
       "      <td>6.766</td>\n",
       "      <td>-0.224</td>\n",
       "      <td>0.050</td>\n",
       "    </tr>\n",
       "  </tbody>\n",
       "</table>\n",
       "<p>100 rows × 3 columns</p>\n",
       "</div>"
      ]
     },
     "execution_count": 44,
     "metadata": {},
     "output_type": "execute_result"
    }
   ],
   "execution_count": 44
  },
  {
   "metadata": {},
   "cell_type": "markdown",
   "source": "## **Таблица 2:** Данные для построения гистограммы",
   "id": "f89e4f3dcbd2e9e7"
  },
  {
   "metadata": {
    "ExecuteTime": {
     "end_time": "2024-09-15T19:36:31.171705Z",
     "start_time": "2024-09-15T19:36:31.140606Z"
    }
   },
   "cell_type": "code",
   "source": [
    "def create_hist_data_table(data: np.ndarray) -> pd.DataFrame:\n",
    "    bins, bin_edges, patches = plt.hist(data, bins=10, density=False, edgecolor='black')\n",
    "    bin_centers = (bin_edges[:-1] + bin_edges[1:]) / 2\n",
    "    mean, std = np.mean(data), np.std(data)\n",
    "    p_values = [1 / (std * np.sqrt(2 * np.pi)) * np.exp(-(t0 - mean) ** 2 / (2 * std ** 2)) for t0 in bin_centers]\n",
    "    df = pd.DataFrame({\n",
    "        'Начало интервала': bin_edges[:-1],\n",
    "        'Конец интервала': bin_edges[1:],\n",
    "        '∆N': bins,\n",
    "        '∆N / (Т * ∆t)': bins / np.sum(bins) / np.diff(bin_edges),\n",
    "        't': bin_centers,\n",
    "        'p': p_values\n",
    "    })\n",
    "    plt.close()\n",
    "\n",
    "    return df.round(3)\n",
    "\n",
    "create_hist_data_table(data)"
   ],
   "id": "664af0afdc098b2b",
   "outputs": [
    {
     "data": {
      "text/plain": [
       "   Начало интервала  Конец интервала    ∆N  ∆N / (Т * ∆t)      t      p\n",
       "0             6.692            6.748   2.0          0.357  6.720  0.232\n",
       "1             6.748            6.805   4.0          0.713  6.777  0.633\n",
       "2             6.805            6.861  10.0          1.783  6.833  1.368\n",
       "3             6.861            6.917  11.0          1.961  6.889  2.343\n",
       "4             6.917            6.973  15.0          2.674  6.945  3.178\n",
       "5             6.973            7.029  19.0          3.387  7.001  3.417\n",
       "6             7.029            7.085  17.0          3.031  7.057  2.911\n",
       "7             7.085            7.141  14.0          2.496  7.113  1.965\n",
       "8             7.141            7.197   6.0          1.070  7.169  1.051\n",
       "9             7.197            7.253   2.0          0.357  7.225  0.445"
      ],
      "text/html": [
       "<div>\n",
       "<style scoped>\n",
       "    .dataframe tbody tr th:only-of-type {\n",
       "        vertical-align: middle;\n",
       "    }\n",
       "\n",
       "    .dataframe tbody tr th {\n",
       "        vertical-align: top;\n",
       "    }\n",
       "\n",
       "    .dataframe thead th {\n",
       "        text-align: right;\n",
       "    }\n",
       "</style>\n",
       "<table border=\"1\" class=\"dataframe\">\n",
       "  <thead>\n",
       "    <tr style=\"text-align: right;\">\n",
       "      <th></th>\n",
       "      <th>Начало интервала</th>\n",
       "      <th>Конец интервала</th>\n",
       "      <th>∆N</th>\n",
       "      <th>∆N / (Т * ∆t)</th>\n",
       "      <th>t</th>\n",
       "      <th>p</th>\n",
       "    </tr>\n",
       "  </thead>\n",
       "  <tbody>\n",
       "    <tr>\n",
       "      <th>0</th>\n",
       "      <td>6.692</td>\n",
       "      <td>6.748</td>\n",
       "      <td>2.0</td>\n",
       "      <td>0.357</td>\n",
       "      <td>6.720</td>\n",
       "      <td>0.232</td>\n",
       "    </tr>\n",
       "    <tr>\n",
       "      <th>1</th>\n",
       "      <td>6.748</td>\n",
       "      <td>6.805</td>\n",
       "      <td>4.0</td>\n",
       "      <td>0.713</td>\n",
       "      <td>6.777</td>\n",
       "      <td>0.633</td>\n",
       "    </tr>\n",
       "    <tr>\n",
       "      <th>2</th>\n",
       "      <td>6.805</td>\n",
       "      <td>6.861</td>\n",
       "      <td>10.0</td>\n",
       "      <td>1.783</td>\n",
       "      <td>6.833</td>\n",
       "      <td>1.368</td>\n",
       "    </tr>\n",
       "    <tr>\n",
       "      <th>3</th>\n",
       "      <td>6.861</td>\n",
       "      <td>6.917</td>\n",
       "      <td>11.0</td>\n",
       "      <td>1.961</td>\n",
       "      <td>6.889</td>\n",
       "      <td>2.343</td>\n",
       "    </tr>\n",
       "    <tr>\n",
       "      <th>4</th>\n",
       "      <td>6.917</td>\n",
       "      <td>6.973</td>\n",
       "      <td>15.0</td>\n",
       "      <td>2.674</td>\n",
       "      <td>6.945</td>\n",
       "      <td>3.178</td>\n",
       "    </tr>\n",
       "    <tr>\n",
       "      <th>5</th>\n",
       "      <td>6.973</td>\n",
       "      <td>7.029</td>\n",
       "      <td>19.0</td>\n",
       "      <td>3.387</td>\n",
       "      <td>7.001</td>\n",
       "      <td>3.417</td>\n",
       "    </tr>\n",
       "    <tr>\n",
       "      <th>6</th>\n",
       "      <td>7.029</td>\n",
       "      <td>7.085</td>\n",
       "      <td>17.0</td>\n",
       "      <td>3.031</td>\n",
       "      <td>7.057</td>\n",
       "      <td>2.911</td>\n",
       "    </tr>\n",
       "    <tr>\n",
       "      <th>7</th>\n",
       "      <td>7.085</td>\n",
       "      <td>7.141</td>\n",
       "      <td>14.0</td>\n",
       "      <td>2.496</td>\n",
       "      <td>7.113</td>\n",
       "      <td>1.965</td>\n",
       "    </tr>\n",
       "    <tr>\n",
       "      <th>8</th>\n",
       "      <td>7.141</td>\n",
       "      <td>7.197</td>\n",
       "      <td>6.0</td>\n",
       "      <td>1.070</td>\n",
       "      <td>7.169</td>\n",
       "      <td>1.051</td>\n",
       "    </tr>\n",
       "    <tr>\n",
       "      <th>9</th>\n",
       "      <td>7.197</td>\n",
       "      <td>7.253</td>\n",
       "      <td>2.0</td>\n",
       "      <td>0.357</td>\n",
       "      <td>7.225</td>\n",
       "      <td>0.445</td>\n",
       "    </tr>\n",
       "  </tbody>\n",
       "</table>\n",
       "</div>"
      ]
     },
     "execution_count": 45,
     "metadata": {},
     "output_type": "execute_result"
    }
   ],
   "execution_count": 45
  },
  {
   "metadata": {},
   "cell_type": "markdown",
   "source": "## **Таблица 3:** стандартные доверительные интервалы",
   "id": "1c9f3fc6300a99ab"
  },
  {
   "metadata": {
    "ExecuteTime": {
     "end_time": "2024-09-15T19:36:31.260030Z",
     "start_time": "2024-09-15T19:36:31.244492Z"
    }
   },
   "cell_type": "code",
   "source": [
    "def create_probabilities_data_table(data: np.ndarray) -> pd.DataFrame:\n",
    "    mean, std = np.mean(data), np.std(data)\n",
    "    lower_1std = mean - std\n",
    "    upper_1std = mean + std\n",
    "    lower_2std = mean - 2 * std\n",
    "    upper_2std = mean + 2 * std\n",
    "    lower_3std = mean - 3 * std\n",
    "    upper_3std = mean + 3 * std\n",
    "    dN_1std = np.sum((data >= lower_1std) & (data <= upper_1std))\n",
    "    dN_2std = np.sum((data >= lower_2std) & (data <= upper_2std))\n",
    "    dN_3std = np.sum((data >= lower_3std) & (data <= upper_3std))\n",
    "    p_std = dN_1std / len(data)\n",
    "    p_2std = dN_2std / len(data)\n",
    "    p_3std = dN_3std / len(data)\n",
    "    df = pd.DataFrame({\n",
    "        \"interval_begin\": [lower_1std, lower_2std, lower_3std],\n",
    "        \"interval_end\": [upper_1std, upper_2std, upper_3std],\n",
    "        \"△N\": [dN_1std, dN_2std, dN_3std],\n",
    "        \"△N / N\": [p_std, p_2std, p_3std],\n",
    "        \"P\": [0.683, 0.954, 0.997]\n",
    "    }, index=[\"⟨t⟩N ± std\", \"⟨t⟩N ± 2std\", \"⟨t⟩N ± 3std\"])\n",
    "    return df.round(3)\n",
    "\n",
    "\n",
    "create_probabilities_data_table(data)"
   ],
   "id": "f6d33542f4823a2f",
   "outputs": [
    {
     "data": {
      "text/plain": [
       "             interval_begin  interval_end   △N  △N / N      P\n",
       "⟨t⟩N ± std            6.874         7.107   63    0.63  0.683\n",
       "⟨t⟩N ± 2std           6.758         7.223   95    0.95  0.954\n",
       "⟨t⟩N ± 3std           6.641         7.339  100    1.00  0.997"
      ],
      "text/html": [
       "<div>\n",
       "<style scoped>\n",
       "    .dataframe tbody tr th:only-of-type {\n",
       "        vertical-align: middle;\n",
       "    }\n",
       "\n",
       "    .dataframe tbody tr th {\n",
       "        vertical-align: top;\n",
       "    }\n",
       "\n",
       "    .dataframe thead th {\n",
       "        text-align: right;\n",
       "    }\n",
       "</style>\n",
       "<table border=\"1\" class=\"dataframe\">\n",
       "  <thead>\n",
       "    <tr style=\"text-align: right;\">\n",
       "      <th></th>\n",
       "      <th>interval_begin</th>\n",
       "      <th>interval_end</th>\n",
       "      <th>△N</th>\n",
       "      <th>△N / N</th>\n",
       "      <th>P</th>\n",
       "    </tr>\n",
       "  </thead>\n",
       "  <tbody>\n",
       "    <tr>\n",
       "      <th>⟨t⟩N ± std</th>\n",
       "      <td>6.874</td>\n",
       "      <td>7.107</td>\n",
       "      <td>63</td>\n",
       "      <td>0.63</td>\n",
       "      <td>0.683</td>\n",
       "    </tr>\n",
       "    <tr>\n",
       "      <th>⟨t⟩N ± 2std</th>\n",
       "      <td>6.758</td>\n",
       "      <td>7.223</td>\n",
       "      <td>95</td>\n",
       "      <td>0.95</td>\n",
       "      <td>0.954</td>\n",
       "    </tr>\n",
       "    <tr>\n",
       "      <th>⟨t⟩N ± 3std</th>\n",
       "      <td>6.641</td>\n",
       "      <td>7.339</td>\n",
       "      <td>100</td>\n",
       "      <td>1.00</td>\n",
       "      <td>0.997</td>\n",
       "    </tr>\n",
       "  </tbody>\n",
       "</table>\n",
       "</div>"
      ]
     },
     "execution_count": 46,
     "metadata": {},
     "output_type": "execute_result"
    }
   ],
   "execution_count": 46
  },
  {
   "metadata": {},
   "cell_type": "markdown",
   "source": "# Потсроение гистограммы и функции плотности распределения",
   "id": "171f7d0b51dcf8c8"
  },
  {
   "metadata": {
    "ExecuteTime": {
     "end_time": "2024-09-15T19:57:24.776379Z",
     "start_time": "2024-09-15T19:57:24.555025Z"
    }
   },
   "cell_type": "code",
   "source": [
    "def plot_hist(data: np.ndarray) -> None:\n",
    "    mean, std = np.mean(data), np.std(data)\n",
    "\n",
    "    n, bins, patches = plt.hist(data, bins=10, edgecolor='black', density=True)\n",
    "    counts, _ = np.histogram(data, bins=bins)\n",
    "\n",
    "    for i in range(len(patches)):\n",
    "        bin_center = (bins[i] + bins[i + 1]) / 2\n",
    "        plt.text(bin_center, 0.1, str(counts[i]), ha='center', va='bottom')\n",
    "\n",
    "    bin_centers = (bins[:-1] + bins[1:]) / 2\n",
    "    p_values = [1 / (std * np.sqrt(2 * np.pi)) * np.exp(-(t0 - mean) ** 2 / (2 * std ** 2)) for t0 in bin_centers]\n",
    "\n",
    "    spline = CubicSpline(bin_centers, p_values)\n",
    "    x_smooth = np.linspace(bins[0], bins[-1], 200)\n",
    "    y_smooth = spline(x_smooth)\n",
    "\n",
    "    plt.plot(x_smooth, y_smooth, color='red', label='Кривая плотности')\n",
    "    plt.scatter(bin_centers, p_values, color='red', s=50, edgecolor='black', zorder=5)\n",
    "    plt.title(\"Гистограмма и кривая плотности распределения\")\n",
    "    plt.xlabel(\"Значения\")\n",
    "    plt.ylabel(\"Плотность\")\n",
    "    plt.legend()\n",
    "    plt.savefig(\"hist.png\")\n",
    "    plt.show()\n",
    "    plt.close()\n",
    "\n",
    "plot_hist(data)"
   ],
   "id": "a71343496298af52",
   "outputs": [
    {
     "data": {
      "text/plain": [
       "<Figure size 640x480 with 1 Axes>"
      ],
      "image/png": "[encoded data removed]"
     },
     "metadata": {},
     "output_type": "display_data"
    }
   ],
   "execution_count": 52
  },
  {
   "metadata": {},
   "cell_type": "markdown",
   "source": "# Подсчёт нужных велечин",
   "id": "10b049aac035cf57"
  },
  {
   "metadata": {},
   "cell_type": "markdown",
   "source": "Выборочное среднее значение: $\\langle t \\rangle_N = \\frac{1}{N} \\sum_{i=1}^{N} t_i$",
   "id": "223f67716ead9552"
  },
  {
   "metadata": {
    "ExecuteTime": {
     "end_time": "2024-09-15T19:36:31.588808Z",
     "start_time": "2024-09-15T19:36:31.582845Z"
    }
   },
   "cell_type": "code",
   "source": "print(f\"{np.mean(data):.3f}\")",
   "id": "52a7096ee8e5e83a",
   "outputs": [
    {
     "name": "stdout",
     "output_type": "stream",
     "text": [
      "6.990\n"
     ]
    }
   ],
   "execution_count": 48
  },
  {
   "metadata": {},
   "cell_type": "markdown",
   "source": [
    "Выборочное среднее отклонение: $\\sigma_N = \\sqrt{\\frac{1}{N} \\sum_{i=1}^{N} (t_i - \\langle t \\rangle_N)^2}\n",
    "$"
   ],
   "id": "c8e3caef391db732"
  },
  {
   "metadata": {
    "ExecuteTime": {
     "end_time": "2024-09-15T19:36:31.622348Z",
     "start_time": "2024-09-15T19:36:31.618507Z"
    }
   },
   "cell_type": "code",
   "source": "print(f\"{np.std(data):.3f}\")",
   "id": "25674e9bab32c9c4",
   "outputs": [
    {
     "name": "stdout",
     "output_type": "stream",
     "text": [
      "0.116\n"
     ]
    }
   ],
   "execution_count": 49
  },
  {
   "metadata": {},
   "cell_type": "markdown",
   "source": "Максимальное значение плотности распределения: $p_{max} = \\frac{\\displaystyle 1}{ \\displaystyle \\sigma \\sqrt{2 \\pi}}$",
   "id": "6a3744d0fcb68b26"
  },
  {
   "metadata": {
    "ExecuteTime": {
     "end_time": "2024-09-15T19:36:31.670521Z",
     "start_time": "2024-09-15T19:36:31.666963Z"
    }
   },
   "cell_type": "code",
   "source": "print(f\"{(1 / (np.std(data) * np.sqrt(2 * np.pi))):.3f}\")",
   "id": "cbbcb0b92c2ac862",
   "outputs": [
    {
     "name": "stdout",
     "output_type": "stream",
     "text": [
      "3.431\n"
     ]
    }
   ],
   "execution_count": 50
  },
  {
   "metadata": {},
   "cell_type": "markdown",
   "source": "Cреднеквадратичное отклонение среднего значения: $\\sigma_{\\langle t \\rangle} = \\frac{\\displaystyle \\sigma}{\\displaystyle \\sqrt{N - 1}}$",
   "id": "cc5c84324088d942"
  },
  {
   "metadata": {
    "ExecuteTime": {
     "end_time": "2024-09-15T19:36:31.698990Z",
     "start_time": "2024-09-15T19:36:31.695152Z"
    }
   },
   "cell_type": "code",
   "source": "print(f\"{np.std(data) / np.sqrt(len(data) - 1):.3f}\")",
   "id": "7672f6e52c4f04ea",
   "outputs": [
    {
     "name": "stdout",
     "output_type": "stream",
     "text": [
      "0.012\n"
     ]
    }
   ],
   "execution_count": 51
  },
  {
   "metadata": {},
   "cell_type": "markdown",
   "source": "$\\frac{1}{\\sigma \\sqrt{2 \\pi}} \\exp\\left(-\\frac{(t_0 - \\mu)^2}{2 \\sigma^2}\\right)$",
   "id": "8bcdc4966e55b3f4"
  },
  {
   "metadata": {},
   "cell_type": "markdown",
   "source": "Коэфицент Стюдента $t_{a, N}$ для доверительного интервала 0.95, и выборки размером 100",
   "id": "52d7cdb70b66aaef"
  },
  {
   "metadata": {
    "ExecuteTime": {
     "end_time": "2024-09-16T09:57:09.070874Z",
     "start_time": "2024-09-16T09:57:09.064101Z"
    }
   },
   "cell_type": "code",
   "source": [
    "import scipy.stats as stats\n",
    "\n",
    "confidence = 0.95\n",
    "n = len(data)\n",
    "df = n - 1\n",
    "t_value = stats.t.ppf((1 + confidence) / 2, df)\n",
    "\n",
    "print(f\"Коэффициент Стьюдента для доверительного уровня {confidence} и {n} элементов: {t_value:.3f}\")\n",
    "print(f\"{(np.mean(data) - t_value):.3f}, {(np.mean(data) + t_value):.3f}\")"
   ],
   "id": "8f993dd4cbc89fed",
   "outputs": [
    {
     "name": "stdout",
     "output_type": "stream",
     "text": [
      "Коэффициент Стьюдента для доверительного уровня 0.95 и 100 элементов: 1.984\n",
      "5.006, 8.974\n"
     ]
    }
   ],
   "execution_count": 54
  },
  {
   "metadata": {},
   "cell_type": "code",
   "outputs": [],
   "execution_count": null,
   "source": "",
   "id": "c9c994b26b15ab60"
  }
 ],
 "metadata": {
  "kernelspec": {
   "display_name": "Python 3",
   "language": "python",
   "name": "python3"
  },
  "language_info": {
   "codemirror_mode": {
    "name": "ipython",
    "version": 2
   },
   "file_extension": ".py",
   "mimetype": "text/x-python",
   "name": "python",
   "nbconvert_exporter": "python",
   "pygments_lexer": "ipython2",
   "version": "2.7.6"
  }
 },
 "nbformat": 4,
 "nbformat_minor": 5
}
